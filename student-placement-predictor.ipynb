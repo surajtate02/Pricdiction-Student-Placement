{
 "cells": [
  {
   "cell_type": "markdown",
   "id": "0651b53a-83ca-4441-9e68-12a37d1a1238",
   "metadata": {},
   "source": [
    "# --->|| Student Placement Pridictor ||<--\n",
    "# --->|| Suraj_Tate ||<---"
   ]
  },
  {
   "cell_type": "code",
   "execution_count": 19,
   "id": "dfbb8a9e-7180-41ee-b589-0751c9dca91c",
   "metadata": {},
   "outputs": [],
   "source": [
    "import numpy as np\n",
    "import pandas as pd"
   ]
  },
  {
   "cell_type": "code",
   "execution_count": 20,
   "id": "39097193",
   "metadata": {},
   "outputs": [],
   "source": [
    "df = pd.read_csv('students_placement.csv')"
   ]
  },
  {
   "cell_type": "code",
   "execution_count": 21,
   "id": "44ecb891",
   "metadata": {},
   "outputs": [
    {
     "data": {
      "text/plain": [
       "(300, 4)"
      ]
     },
     "execution_count": 21,
     "metadata": {},
     "output_type": "execute_result"
    }
   ],
   "source": [
    "df.shape"
   ]
  },
  {
   "cell_type": "code",
   "execution_count": 22,
   "id": "0102f6be",
   "metadata": {},
   "outputs": [
    {
     "data": {
      "text/html": [
       "<div>\n",
       "<style scoped>\n",
       "    .dataframe tbody tr th:only-of-type {\n",
       "        vertical-align: middle;\n",
       "    }\n",
       "\n",
       "    .dataframe tbody tr th {\n",
       "        vertical-align: top;\n",
       "    }\n",
       "\n",
       "    .dataframe thead th {\n",
       "        text-align: right;\n",
       "    }\n",
       "</style>\n",
       "<table border=\"1\" class=\"dataframe\">\n",
       "  <thead>\n",
       "    <tr style=\"text-align: right;\">\n",
       "      <th></th>\n",
       "      <th>cgpa</th>\n",
       "      <th>iq</th>\n",
       "      <th>profile_score</th>\n",
       "      <th>placed</th>\n",
       "    </tr>\n",
       "  </thead>\n",
       "  <tbody>\n",
       "    <tr>\n",
       "      <th>3</th>\n",
       "      <td>5.54</td>\n",
       "      <td>113</td>\n",
       "      <td>68</td>\n",
       "      <td>0</td>\n",
       "    </tr>\n",
       "    <tr>\n",
       "      <th>133</th>\n",
       "      <td>8.21</td>\n",
       "      <td>89</td>\n",
       "      <td>51</td>\n",
       "      <td>1</td>\n",
       "    </tr>\n",
       "    <tr>\n",
       "      <th>111</th>\n",
       "      <td>5.67</td>\n",
       "      <td>112</td>\n",
       "      <td>67</td>\n",
       "      <td>0</td>\n",
       "    </tr>\n",
       "    <tr>\n",
       "      <th>15</th>\n",
       "      <td>7.88</td>\n",
       "      <td>91</td>\n",
       "      <td>59</td>\n",
       "      <td>1</td>\n",
       "    </tr>\n",
       "    <tr>\n",
       "      <th>96</th>\n",
       "      <td>5.25</td>\n",
       "      <td>113</td>\n",
       "      <td>65</td>\n",
       "      <td>0</td>\n",
       "    </tr>\n",
       "  </tbody>\n",
       "</table>\n",
       "</div>"
      ],
      "text/plain": [
       "     cgpa   iq  profile_score  placed\n",
       "3    5.54  113             68       0\n",
       "133  8.21   89             51       1\n",
       "111  5.67  112             67       0\n",
       "15   7.88   91             59       1\n",
       "96   5.25  113             65       0"
      ]
     },
     "execution_count": 22,
     "metadata": {},
     "output_type": "execute_result"
    }
   ],
   "source": [
    "df.sample(5)"
   ]
  },
  {
   "cell_type": "code",
   "execution_count": 23,
   "id": "bebb8518",
   "metadata": {},
   "outputs": [],
   "source": [
    "X = df.drop(columns=['placed'])\n",
    "y = df['placed']"
   ]
  },
  {
   "cell_type": "code",
   "execution_count": 24,
   "id": "7bf7d3ce",
   "metadata": {},
   "outputs": [],
   "source": [
    "from sklearn.model_selection import train_test_split\n",
    "X_train,X_test,y_train,y_test = train_test_split(X,y,test_size=0.2,random_state=2)"
   ]
  },
  {
   "cell_type": "code",
   "execution_count": 25,
   "id": "ad58b82e",
   "metadata": {},
   "outputs": [
    {
     "data": {
      "text/plain": [
       "0.8833333333333333"
      ]
     },
     "execution_count": 25,
     "metadata": {},
     "output_type": "execute_result"
    }
   ],
   "source": [
    "from sklearn.linear_model import LogisticRegression\n",
    "from sklearn.preprocessing import StandardScaler\n",
    "from sklearn.metrics import accuracy_score\n",
    "scaler = StandardScaler()\n",
    "X_train_trf = scaler.fit_transform(X_train)\n",
    "X_test_trf = scaler.transform(X_test)\n",
    "accuracy_score(y_test,\n",
    "               LogisticRegression()\n",
    "               .fit(X_train_trf,y_train)\n",
    "               .predict(X_test_trf))"
   ]
  },
  {
   "cell_type": "code",
   "execution_count": 26,
   "id": "08abd989",
   "metadata": {},
   "outputs": [
    {
     "data": {
      "text/plain": [
       "0.9"
      ]
     },
     "execution_count": 26,
     "metadata": {},
     "output_type": "execute_result"
    }
   ],
   "source": [
    "from sklearn.ensemble import RandomForestClassifier\n",
    "accuracy_score(y_test,RandomForestClassifier().fit(X_train,y_train).predict(X_test))"
   ]
  },
  {
   "cell_type": "code",
   "execution_count": 27,
   "id": "9b67931c",
   "metadata": {},
   "outputs": [
    {
     "data": {
      "text/plain": [
       "0.9333333333333333"
      ]
     },
     "execution_count": 27,
     "metadata": {},
     "output_type": "execute_result"
    }
   ],
   "source": [
    "from sklearn.svm import SVC\n",
    "accuracy_score(y_test,SVC(kernel='rbf').fit(X_train,y_train).predict(X_test))"
   ]
  },
  {
   "cell_type": "code",
   "execution_count": 28,
   "id": "81cf1d80",
   "metadata": {},
   "outputs": [
    {
     "data": {
      "text/plain": [
       "SVC()"
      ]
     },
     "execution_count": 28,
     "metadata": {},
     "output_type": "execute_result"
    }
   ],
   "source": [
    "svc = SVC(kernel='rbf')\n",
    "svc.fit(X_train,y_train)"
   ]
  },
  {
   "cell_type": "code",
   "execution_count": 29,
   "id": "49b3950f",
   "metadata": {},
   "outputs": [],
   "source": [
    "#rf = RandomForestClassifier()\n",
    "#rf.fit(X_train,y_train)"
   ]
  },
  {
   "cell_type": "code",
   "execution_count": 30,
   "id": "52ce0f1a",
   "metadata": {},
   "outputs": [],
   "source": [
    "import pickle \n",
    "pickle.dump(svc,open('model.pkl','wb'))"
   ]
  },
  {
   "cell_type": "code",
   "execution_count": 31,
   "id": "53e43705",
   "metadata": {},
   "outputs": [],
   "source": [
    "#rf.predict(np.array([4.5,56,10]).reshape(1,3))"
   ]
  },
  {
   "cell_type": "code",
   "execution_count": null,
   "id": "639a044d-c052-4c14-9cbe-9c6adfb90ae9",
   "metadata": {},
   "outputs": [],
   "source": []
  }
 ],
 "metadata": {
  "kernelspec": {
   "display_name": "Python 3",
   "language": "python",
   "name": "python3"
  },
  "language_info": {
   "codemirror_mode": {
    "name": "ipython",
    "version": 3
   },
   "file_extension": ".py",
   "mimetype": "text/x-python",
   "name": "python",
   "nbconvert_exporter": "python",
   "pygments_lexer": "ipython3",
   "version": "3.8.8"
  }
 },
 "nbformat": 4,
 "nbformat_minor": 5
}
